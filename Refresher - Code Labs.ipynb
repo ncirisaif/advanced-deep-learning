{
 "cells": [
  {
   "cell_type": "markdown",
   "metadata": {
    "id": "msppTXQW-0fZ"
   },
   "source": [
    "# Advanced Deep Learning: Refresher - Code Labs \n",
    "\n",
    "## Lab Exercise #1 -\n",
    "    \n",
    "## Objectives:\n",
    "\n",
    "    1. Install TF.Keras related packages\n",
    "    2. Create a basic DNN (input layer, hidden layer, output layer)\n",
    "        A. Correctly set the input shape.\n",
    "        B. Correctly set the number of nodes.\n",
    "        C. Correctly set activation function.\n",
    "        D. Practive using various Sequential API styles and the Functional API.\n",
    "    3. Review a model.summary()"
   ]
  },
  {
   "cell_type": "markdown",
   "metadata": {
    "id": "VoaKaGv1-0fa"
   },
   "source": [
    "## Setup:\n",
    "\n",
    "Install relevant packages to get started with Keras, and then import them.\n",
    "\n",
    "For Tensorflow 2.0+ install, you may get incompatibility errors with Tensorboard and TFX. These can be ignored for the purpose of this lab exercise."
   ]
  },
  {
   "cell_type": "code",
   "execution_count": null,
   "metadata": {
    "colab": {
     "base_uri": "https://localhost:8080/",
     "height": 51
    },
    "executionInfo": {
     "elapsed": 3302,
     "status": "ok",
     "timestamp": 1601462256160,
     "user": {
      "displayName": "Salma ACHOUR",
      "photoUrl": "https://lh5.googleusercontent.com/-BO4xw1YsulE/AAAAAAAAAAI/AAAAAAAAAFg/7FORO_tJVq8/s64/photo.jpg",
      "userId": "03683727301665282596"
     },
     "user_tz": -60
    },
    "id": "AzKSL3SB-0fb",
    "outputId": "8462baa6-19cd-46bd-8518-b9cd70b37736"
   },
   "outputs": [
    {
     "name": "stdout",
     "output_type": "stream",
     "text": [
      "1.18.5\n",
      "2.3.0\n"
     ]
    }
   ],
   "source": [
    "# Install numpy math library\n",
    "#!pip install -U numpy\n",
    "# Install Tensorflow+Keras\n",
    "#!pip install -U tensorflow\n",
    "\n",
    "# Import keras and TF\n",
    "import tensorflow as tf\n",
    "import numpy as np\n",
    "\n",
    "print(np.__version__)              # should be 1.17+\n",
    "print(tf.__version__)              # should be 2.0+"
   ]
  },
  {
   "cell_type": "markdown",
   "metadata": {
    "id": "nXVguQKB-0fe"
   },
   "source": [
    "## Basic DNN as Sequential API (long form)\n",
    "\n",
    "Let's use the long form of a Sequential method. That means that we will use the add() method for each step.\n",
    "\n",
    "Below is a nearly complete DNN for a multi-class classifier. You fill in the blanks (replace the ??), make sure it passes the Python interpreter, and then verify it's correctness with the summary output.\n",
    "\n",
    "You will need to:\n",
    "\n",
    "    1. Fill in the input shape for the 28x28 image input.\n",
    "    2. Specify number of nodes for the dense layers.\n",
    "    3. Set the activation function for the hidden dense layers and ouput dense layer."
   ]
  },
  {
   "cell_type": "code",
   "execution_count": null,
   "metadata": {
    "id": "Qcq8OwBf-0ff"
   },
   "outputs": [],
   "source": [
    "from tensorflow.keras import Sequential\n",
    "from tensorflow.keras.layers import Flatten, Dense, Activation\n",
    "\n",
    "# define the input shape for a 28x28 grayscale image (like MNIST)\n",
    "# HINT: should be a tuple of height and width\n",
    "input_shape=( 28, 28 )\n",
    "\n",
    "# Let's start a sequential model\n",
    "model = Sequential()\n",
    "\n",
    "# Let's flatten the 28x28 image to a 784 1D vector\n",
    "model.add(Flatten(input_shape=input_shape))\n",
    "\n",
    "# Let's add the input layer as a dense layer of 128 nodes\n",
    "# HINT: the parameter is the number of nodes\n",
    "model.add(Dense(128))\n",
    "\n",
    "# Add the activation function\n",
    "# HINT: use the best practice convention for a non-output Dense layer\n",
    "model.add(Activation(\"relu\"))\n",
    "\n",
    "# Add the hidden layer with 512 nodes\n",
    "model.add(Dense(512))\n",
    "model.add(Activation(\"relu\"))\n",
    "\n",
    "# Add the output layer with 10 nodes\n",
    "model.add(Dense(10))\n",
    "\n",
    "# Add the activation function\n",
    "# HINT: use the best practice for a multi-class classifier\n",
    "model.add(Activation(\"softmax\"))"
   ]
  },
  {
   "cell_type": "markdown",
   "metadata": {
    "id": "Lr5Wirqs-0fi"
   },
   "source": [
    "### Verify the model architecture using summary method\n",
    "\n",
    "It should look like below:\n",
    "\n",
    "```\n",
    "Layer (type)                 Output Shape              Param #   \n",
    "=================================================================\n",
    "flatten_1 (Flatten)          (None, 784)               0         \n",
    "_________________________________________________________________\n",
    "dense_4 (Dense)              (None, 128)               100480    \n",
    "_________________________________________________________________\n",
    "activation_4 (Activation)    (None, 128)               0         \n",
    "_________________________________________________________________\n",
    "dense_5 (Dense)              (None, 512)               66048     \n",
    "_________________________________________________________________\n",
    "activation_5 (Activation)    (None, 512)               0         \n",
    "_________________________________________________________________\n",
    "dense_6 (Dense)              (None, 10)                5130      \n",
    "_________________________________________________________________\n",
    "activation_6 (Activation)    (None, 10)                0         \n",
    "=================================================================\n",
    "Total params: 171,658\n",
    "Trainable params: 171,658\n",
    "Non-trainable params: 0\n",
    "```"
   ]
  },
  {
   "cell_type": "code",
   "execution_count": null,
   "metadata": {
    "colab": {
     "base_uri": "https://localhost:8080/",
     "height": 394
    },
    "executionInfo": {
     "elapsed": 1169,
     "status": "ok",
     "timestamp": 1601462505762,
     "user": {
      "displayName": "Salma ACHOUR",
      "photoUrl": "https://lh5.googleusercontent.com/-BO4xw1YsulE/AAAAAAAAAAI/AAAAAAAAAFg/7FORO_tJVq8/s64/photo.jpg",
      "userId": "03683727301665282596"
     },
     "user_tz": -60
    },
    "id": "k4guGtL4-0fj",
    "outputId": "71ff087f-fa85-4e56-bf97-093b58a8a0b9"
   },
   "outputs": [
    {
     "name": "stdout",
     "output_type": "stream",
     "text": [
      "Model: \"sequential\"\n",
      "_________________________________________________________________\n",
      "Layer (type)                 Output Shape              Param #   \n",
      "=================================================================\n",
      "flatten (Flatten)            (None, 784)               0         \n",
      "_________________________________________________________________\n",
      "dense (Dense)                (None, 128)               100480    \n",
      "_________________________________________________________________\n",
      "activation (Activation)      (None, 128)               0         \n",
      "_________________________________________________________________\n",
      "dense_1 (Dense)              (None, 512)               66048     \n",
      "_________________________________________________________________\n",
      "activation_1 (Activation)    (None, 512)               0         \n",
      "_________________________________________________________________\n",
      "dense_2 (Dense)              (None, 10)                5130      \n",
      "_________________________________________________________________\n",
      "activation_2 (Activation)    (None, 10)                0         \n",
      "=================================================================\n",
      "Total params: 171,658\n",
      "Trainable params: 171,658\n",
      "Non-trainable params: 0\n",
      "_________________________________________________________________\n"
     ]
    }
   ],
   "source": [
    "model.summary()"
   ]
  },
  {
   "cell_type": "markdown",
   "metadata": {
    "id": "01IZywfO-0fm"
   },
   "source": [
    "##  Basic DNN as Sequential API (short form)\n",
    "\n",
    "Let's repeat the above, but use the short form.\n",
    "\n",
    "You will need to:\n",
    "\n",
    "    1. Specify the activation functions as a parameter."
   ]
  },
  {
   "cell_type": "code",
   "execution_count": null,
   "metadata": {
    "id": "BM9QtLaO-0fm"
   },
   "outputs": [],
   "source": [
    "from tensorflow.keras import Sequential\n",
    "from tensorflow.keras.layers import Dense\n",
    "\n",
    "# Let's start a sequential model\n",
    "model = Sequential()\n",
    "\n",
    "# Let's add a first flattening layer to flatten the 28x28 image into 1D vector\n",
    "model.add(Flatten(input_shape=(28, 28, 1)))\n",
    "\n",
    "# Let's add the input layer as a dense layer of 128 nodes\n",
    "# HINT: use best practices for activation functions\n",
    "model.add(Dense(128, activation=\"relu\"))\n",
    "\n",
    "# Add the hidden layer with 512 nodes\n",
    "model.add(Dense(512, activation=\"relu\"))\n",
    "\n",
    "# Add the output layer with 10 nodes\n",
    "model.add(Dense(10, activation=\"softmax\"))"
   ]
  },
  {
   "cell_type": "markdown",
   "metadata": {
    "id": "a44VrMNv-0fq"
   },
   "source": [
    "### Verify the model architecture using summary method\n",
    "\n",
    "It should be identical to the previous. But note in this case, summary() does not show the activation functions."
   ]
  },
  {
   "cell_type": "code",
   "execution_count": null,
   "metadata": {
    "colab": {
     "base_uri": "https://localhost:8080/",
     "height": 291
    },
    "executionInfo": {
     "elapsed": 1021,
     "status": "ok",
     "timestamp": 1601462582333,
     "user": {
      "displayName": "Salma ACHOUR",
      "photoUrl": "https://lh5.googleusercontent.com/-BO4xw1YsulE/AAAAAAAAAAI/AAAAAAAAAFg/7FORO_tJVq8/s64/photo.jpg",
      "userId": "03683727301665282596"
     },
     "user_tz": -60
    },
    "id": "jec-n2fF-0fr",
    "outputId": "fcbe3122-43ed-44f6-d709-0fe5ee7da818"
   },
   "outputs": [
    {
     "name": "stdout",
     "output_type": "stream",
     "text": [
      "Model: \"sequential_1\"\n",
      "_________________________________________________________________\n",
      "Layer (type)                 Output Shape              Param #   \n",
      "=================================================================\n",
      "flatten_1 (Flatten)          (None, 784)               0         \n",
      "_________________________________________________________________\n",
      "dense_3 (Dense)              (None, 128)               100480    \n",
      "_________________________________________________________________\n",
      "dense_4 (Dense)              (None, 512)               66048     \n",
      "_________________________________________________________________\n",
      "dense_5 (Dense)              (None, 10)                5130      \n",
      "=================================================================\n",
      "Total params: 171,658\n",
      "Trainable params: 171,658\n",
      "Non-trainable params: 0\n",
      "_________________________________________________________________\n"
     ]
    }
   ],
   "source": [
    "model.summary()"
   ]
  },
  {
   "cell_type": "markdown",
   "metadata": {
    "id": "gY75nZxn-0f1"
   },
   "source": [
    "## Basic DNN as Sequential API (list form)\n",
    "\n",
    "Let's repeat the above, but instead specify the layers as a parameter to the Sequential() object, we will specify them using a list.\n",
    "\n",
    "You will need to:\n",
    "\n",
    "    1. Define the hidden layer.\n",
    "    2. Define the output (classifier) layer."
   ]
  },
  {
   "cell_type": "code",
   "execution_count": null,
   "metadata": {
    "id": "K_7YANY3-0f1"
   },
   "outputs": [],
   "source": [
    "from tensorflow.keras import Sequential\n",
    "from tensorflow.keras.layers import Dense\n",
    "\n",
    "# Let's start a sequential model\n",
    "model = Sequential([ # input layer\n",
    "                     Flatten(input_shape=(28, 28, 1)),\n",
    "                     Dense(128, activation='relu'),\n",
    "                     # hidden layer\n",
    "                     Dense(512, activation = \"relu\"),\n",
    "                     # output layer\n",
    "                     Dense(10, activation = \"softmax\"),\n",
    "                    ])"
   ]
  },
  {
   "cell_type": "markdown",
   "metadata": {
    "id": "ZluAaUZm-0f4"
   },
   "source": [
    "### Verify the model architecture using summary method\n",
    "\n",
    "It should be identical to the previous."
   ]
  },
  {
   "cell_type": "code",
   "execution_count": null,
   "metadata": {
    "colab": {
     "base_uri": "https://localhost:8080/",
     "height": 291
    },
    "executionInfo": {
     "elapsed": 804,
     "status": "ok",
     "timestamp": 1601462668341,
     "user": {
      "displayName": "Salma ACHOUR",
      "photoUrl": "https://lh5.googleusercontent.com/-BO4xw1YsulE/AAAAAAAAAAI/AAAAAAAAAFg/7FORO_tJVq8/s64/photo.jpg",
      "userId": "03683727301665282596"
     },
     "user_tz": -60
    },
    "id": "GYPnN0Gq-0f4",
    "outputId": "1b9a00bb-85fb-4694-ec33-ba7c692f31ed"
   },
   "outputs": [
    {
     "name": "stdout",
     "output_type": "stream",
     "text": [
      "Model: \"sequential_2\"\n",
      "_________________________________________________________________\n",
      "Layer (type)                 Output Shape              Param #   \n",
      "=================================================================\n",
      "flatten_2 (Flatten)          (None, 784)               0         \n",
      "_________________________________________________________________\n",
      "dense_6 (Dense)              (None, 128)               100480    \n",
      "_________________________________________________________________\n",
      "dense_7 (Dense)              (None, 512)               66048     \n",
      "_________________________________________________________________\n",
      "dense_8 (Dense)              (None, 10)                5130      \n",
      "=================================================================\n",
      "Total params: 171,658\n",
      "Trainable params: 171,658\n",
      "Non-trainable params: 0\n",
      "_________________________________________________________________\n"
     ]
    }
   ],
   "source": [
    "model.summary()"
   ]
  },
  {
   "cell_type": "markdown",
   "metadata": {
    "id": "vGoCJ8pJ-0f6"
   },
   "source": [
    "## Basic DNN as [Functional API](https://keras.io/guides/functional_api/) \n",
    "\n",
    "Let's repeat the above, but instead specify the layers using the functional API.\n",
    "\n",
    "This will need to:\n",
    "\n",
    "    1. Specify the input shape for the Input object\n",
    "    2. Connect the Input object to the Flatten layer.\n",
    "    3. Connect the Flatten output to the input Dense layer.\n",
    "    4. Specify the hidden and output layers."
   ]
  },
  {
   "cell_type": "code",
   "execution_count": null,
   "metadata": {
    "id": "VYXhASyK-0f7"
   },
   "outputs": [],
   "source": [
    "from tensorflow.keras import Model, Input\n",
    "from tensorflow.keras.layers import Dense, Flatten\n",
    "\n",
    "# Define the input vector for the 28x28 images\n",
    "# HINT: Should be a tuple of height and width\n",
    "inputs = Input(shape = (28,28))\n",
    "\n",
    "# Let's flatten the image into a 1D vector\n",
    "# HINT: the input vector is where you defined the input shape\n",
    "x = Flatten()(inputs)\n",
    "\n",
    "# Define the input layer and connect the flattened input vector\n",
    "# HINT: the output of Flatten() is the flattened input vector\n",
    "x = Dense(128, activation='relu')(x)\n",
    "\n",
    "# Define the hidden layer and connect the hidden layer to it.\n",
    "x = Dense(512, activation='relu')(x)\n",
    "\n",
    "# Define the output layer and connect the hidden layer to it.\n",
    "outputs = Dense(10, activation='softmax')(x)\n",
    "\n",
    "# Let's put it together: \n",
    "# HINT: inputs to outputs\n",
    "model = Model(inputs, outputs)"
   ]
  },
  {
   "cell_type": "markdown",
   "metadata": {
    "id": "ZH8maBQW-0f9"
   },
   "source": [
    "### Verify the model architecture using summary method\n",
    "\n",
    "It should be identical to the previous."
   ]
  },
  {
   "cell_type": "code",
   "execution_count": null,
   "metadata": {
    "colab": {
     "base_uri": "https://localhost:8080/",
     "height": 326
    },
    "executionInfo": {
     "elapsed": 917,
     "status": "ok",
     "timestamp": 1601462935342,
     "user": {
      "displayName": "Salma ACHOUR",
      "photoUrl": "https://lh5.googleusercontent.com/-BO4xw1YsulE/AAAAAAAAAAI/AAAAAAAAAFg/7FORO_tJVq8/s64/photo.jpg",
      "userId": "03683727301665282596"
     },
     "user_tz": -60
    },
    "id": "hQFFoPvg-0f9",
    "outputId": "83ebfc19-c61d-439a-9d44-0fc205845f52"
   },
   "outputs": [
    {
     "name": "stdout",
     "output_type": "stream",
     "text": [
      "Model: \"functional_1\"\n",
      "_________________________________________________________________\n",
      "Layer (type)                 Output Shape              Param #   \n",
      "=================================================================\n",
      "input_1 (InputLayer)         [(None, 28, 28)]          0         \n",
      "_________________________________________________________________\n",
      "flatten_3 (Flatten)          (None, 784)               0         \n",
      "_________________________________________________________________\n",
      "dense_9 (Dense)              (None, 128)               100480    \n",
      "_________________________________________________________________\n",
      "dense_10 (Dense)             (None, 512)               66048     \n",
      "_________________________________________________________________\n",
      "dense_11 (Dense)             (None, 10)                5130      \n",
      "=================================================================\n",
      "Total params: 171,658\n",
      "Trainable params: 171,658\n",
      "Non-trainable params: 0\n",
      "_________________________________________________________________\n"
     ]
    }
   ],
   "source": [
    "model.summary()"
   ]
  },
  {
   "cell_type": "markdown",
   "metadata": {
    "id": "FstXHPet-0gA"
   },
   "source": [
    "## Training\n",
    "\n",
    "Finally, you will train the model --eventhough we haven't covered training yet. Just follow the steps and later we will revisit and go into details.\n",
    "\n",
    "We will make two copies of the model. One we will train without preprocessing (not covered yet) the MNIST dataset, and the other with preprocessing and compare the results."
   ]
  },
  {
   "cell_type": "code",
   "execution_count": null,
   "metadata": {
    "id": "sSUUYYuH-0gB"
   },
   "outputs": [],
   "source": [
    "def makeModel():\n",
    "    # Make a DNN model\n",
    "    inputs = Input((28, 28))\n",
    "    x = Flatten()(inputs)\n",
    "    x = Dense(128, activation='relu')(x)\n",
    "    x = Dense(512, activation='relu')(x)\n",
    "    outputs = Dense(10, activation='softmax')(x)\n",
    "    model = Model(inputs, outputs)\n",
    "    # Compile the model\n",
    "    model.compile(loss='sparse_categorical_crossentropy', optimizer='adam', metrics=['acc'])\n",
    "    return model\n",
    "\n",
    "# We make two copies of the model\n",
    "model_a = makeModel()\n",
    "model_b = makeModel()"
   ]
  },
  {
   "cell_type": "markdown",
   "metadata": {
    "id": "zgn9EBjM-0gD"
   },
   "source": [
    "### Dataset\n",
    "\n",
    "tf.Keras has a variety of builtin datasets, including the MNIST dataset. We will start by getting the dataset as non-processed data. This will include:\n",
    "\n",
    "    training data : *_train\n",
    "    test data .   : *_test\n",
    "    \n",
    "Both the training and test data consists of the training images (x_\\*) and corresponding labels (y_\\*)"
   ]
  },
  {
   "cell_type": "code",
   "execution_count": null,
   "metadata": {
    "colab": {
     "base_uri": "https://localhost:8080/",
     "height": 51
    },
    "executionInfo": {
     "elapsed": 1766,
     "status": "ok",
     "timestamp": 1601463105028,
     "user": {
      "displayName": "Salma ACHOUR",
      "photoUrl": "https://lh5.googleusercontent.com/-BO4xw1YsulE/AAAAAAAAAAI/AAAAAAAAAFg/7FORO_tJVq8/s64/photo.jpg",
      "userId": "03683727301665282596"
     },
     "user_tz": -60
    },
    "id": "n0BLr-nN-0gE",
    "outputId": "2e3fb997-0981-4be2-a984-4f6096640895"
   },
   "outputs": [
    {
     "name": "stdout",
     "output_type": "stream",
     "text": [
      "Downloading data from https://storage.googleapis.com/tensorflow/tf-keras-datasets/mnist.npz\n",
      "11493376/11490434 [==============================] - 0s 0us/step\n"
     ]
    }
   ],
   "source": [
    "from tensorflow.keras.datasets import mnist\n",
    "\n",
    "# Load the dataset\n",
    "(x_train, y_train), (x_test, y_test) = mnist.load_data()"
   ]
  },
  {
   "cell_type": "markdown",
   "metadata": {
    "id": "9bLcllvH-0gG"
   },
   "source": [
    "### Train w/o preprocessing the data\n",
    "\n",
    "Let's train the first model without preprocessing the data for 10 epochs (not covered yet). Pay attention to the end of the final (epoch 10) training accuracy (acc:) and validation accuracy (val_acc:)."
   ]
  },
  {
   "cell_type": "code",
   "execution_count": null,
   "metadata": {
    "colab": {
     "base_uri": "https://localhost:8080/",
     "height": 397
    },
    "executionInfo": {
     "elapsed": 55377,
     "status": "ok",
     "timestamp": 1601463188712,
     "user": {
      "displayName": "Salma ACHOUR",
      "photoUrl": "https://lh5.googleusercontent.com/-BO4xw1YsulE/AAAAAAAAAAI/AAAAAAAAAFg/7FORO_tJVq8/s64/photo.jpg",
      "userId": "03683727301665282596"
     },
     "user_tz": -60
    },
    "id": "6P6svd-1-0gG",
    "outputId": "92923aff-015c-43c1-870e-621c6d69f8b1"
   },
   "outputs": [
    {
     "name": "stdout",
     "output_type": "stream",
     "text": [
      "Epoch 1/10\n",
      "1688/1688 [==============================] - 6s 3ms/step - loss: 1.2081 - acc: 0.8512 - val_loss: 0.3511 - val_acc: 0.9103\n",
      "Epoch 2/10\n",
      "1688/1688 [==============================] - 5s 3ms/step - loss: 0.4700 - acc: 0.9004 - val_loss: 0.4274 - val_acc: 0.9125\n",
      "Epoch 3/10\n",
      "1688/1688 [==============================] - 5s 3ms/step - loss: 0.3632 - acc: 0.9210 - val_loss: 0.2236 - val_acc: 0.9483\n",
      "Epoch 4/10\n",
      "1688/1688 [==============================] - 5s 3ms/step - loss: 0.2442 - acc: 0.9394 - val_loss: 0.1667 - val_acc: 0.9538\n",
      "Epoch 5/10\n",
      "1688/1688 [==============================] - 5s 3ms/step - loss: 0.1827 - acc: 0.9513 - val_loss: 0.1563 - val_acc: 0.9583\n",
      "Epoch 6/10\n",
      "1688/1688 [==============================] - 5s 3ms/step - loss: 0.1532 - acc: 0.9586 - val_loss: 0.1412 - val_acc: 0.9663\n",
      "Epoch 7/10\n",
      "1688/1688 [==============================] - 5s 3ms/step - loss: 0.1402 - acc: 0.9625 - val_loss: 0.1379 - val_acc: 0.9655\n",
      "Epoch 8/10\n",
      "1688/1688 [==============================] - 5s 3ms/step - loss: 0.1313 - acc: 0.9647 - val_loss: 0.1232 - val_acc: 0.9680\n",
      "Epoch 9/10\n",
      "1688/1688 [==============================] - 5s 3ms/step - loss: 0.1176 - acc: 0.9676 - val_loss: 0.1450 - val_acc: 0.9663\n",
      "Epoch 10/10\n",
      "1688/1688 [==============================] - 6s 3ms/step - loss: 0.1134 - acc: 0.9694 - val_loss: 0.1245 - val_acc: 0.9700\n"
     ]
    },
    {
     "data": {
      "text/plain": [
       "<tensorflow.python.keras.callbacks.History at 0x7f54928bb588>"
      ]
     },
     "execution_count": 13,
     "metadata": {
      "tags": []
     },
     "output_type": "execute_result"
    }
   ],
   "source": [
    "model_a.fit(x_train, y_train, epochs=10, batch_size=32, validation_split=0.1, verbose=1)"
   ]
  },
  {
   "cell_type": "markdown",
   "metadata": {
    "id": "5jWo86RN-0gJ"
   },
   "source": [
    "### Training with preprocessed data.\n",
    "\n",
    "Let's preprocess the image data by normalizing the pixel values --not covered yet, and then train the second model. Pay attention to the final training and validation accuracy."
   ]
  },
  {
   "cell_type": "code",
   "execution_count": null,
   "metadata": {
    "colab": {
     "base_uri": "https://localhost:8080/",
     "height": 397
    },
    "executionInfo": {
     "elapsed": 56366,
     "status": "ok",
     "timestamp": 1601463271002,
     "user": {
      "displayName": "Salma ACHOUR",
      "photoUrl": "https://lh5.googleusercontent.com/-BO4xw1YsulE/AAAAAAAAAAI/AAAAAAAAAFg/7FORO_tJVq8/s64/photo.jpg",
      "userId": "03683727301665282596"
     },
     "user_tz": -60
    },
    "id": "Cm4JfVpo-0gJ",
    "outputId": "9a76efa7-7b95-4c80-c420-7d854b50c859"
   },
   "outputs": [
    {
     "name": "stdout",
     "output_type": "stream",
     "text": [
      "Epoch 1/10\n",
      "1688/1688 [==============================] - 5s 3ms/step - loss: 0.2250 - acc: 0.9316 - val_loss: 0.1106 - val_acc: 0.9695\n",
      "Epoch 2/10\n",
      "1688/1688 [==============================] - 5s 3ms/step - loss: 0.0964 - acc: 0.9710 - val_loss: 0.0918 - val_acc: 0.9720\n",
      "Epoch 3/10\n",
      "1688/1688 [==============================] - 5s 3ms/step - loss: 0.0687 - acc: 0.9782 - val_loss: 0.0796 - val_acc: 0.9780\n",
      "Epoch 4/10\n",
      "1688/1688 [==============================] - 5s 3ms/step - loss: 0.0508 - acc: 0.9836 - val_loss: 0.0798 - val_acc: 0.9782\n",
      "Epoch 5/10\n",
      "1688/1688 [==============================] - 5s 3ms/step - loss: 0.0399 - acc: 0.9865 - val_loss: 0.0778 - val_acc: 0.9778\n",
      "Epoch 6/10\n",
      "1688/1688 [==============================] - 6s 3ms/step - loss: 0.0353 - acc: 0.9882 - val_loss: 0.0819 - val_acc: 0.9792\n",
      "Epoch 7/10\n",
      "1688/1688 [==============================] - 5s 3ms/step - loss: 0.0280 - acc: 0.9911 - val_loss: 0.0950 - val_acc: 0.9760\n",
      "Epoch 8/10\n",
      "1688/1688 [==============================] - 6s 3ms/step - loss: 0.0241 - acc: 0.9915 - val_loss: 0.0892 - val_acc: 0.9798\n",
      "Epoch 9/10\n",
      "1688/1688 [==============================] - 5s 3ms/step - loss: 0.0228 - acc: 0.9924 - val_loss: 0.1077 - val_acc: 0.9773\n",
      "Epoch 10/10\n",
      "1688/1688 [==============================] - 5s 3ms/step - loss: 0.0205 - acc: 0.9935 - val_loss: 0.0975 - val_acc: 0.9785\n"
     ]
    },
    {
     "data": {
      "text/plain": [
       "<tensorflow.python.keras.callbacks.History at 0x7f5490268668>"
      ]
     },
     "execution_count": 14,
     "metadata": {
      "tags": []
     },
     "output_type": "execute_result"
    }
   ],
   "source": [
    "import numpy as np\n",
    "\n",
    "# Preprocess the image data\n",
    "x_train = (x_train / 255.0).astype(np.float32)\n",
    "\n",
    "# Train the model\n",
    "model_b.fit(x_train, y_train, epochs=10, batch_size=32, validation_split=0.1, verbose=1)"
   ]
  },
  {
   "cell_type": "markdown",
   "metadata": {
    "id": "1DeLtk3f-0gM"
   },
   "source": [
    "### Observation\n",
    "\n",
    "Note how by preprocessing the data, we get a higher accuracy."
   ]
  },
  {
   "cell_type": "markdown",
   "metadata": {
    "id": "SzA8ITLA-0gN"
   },
   "source": [
    "## End of Lab"
   ]
  }
 ],
 "metadata": {
  "colab": {
   "collapsed_sections": [],
   "name": "project_abidi_saifeddine_and_achour_salma.ipynb",
   "provenance": []
  },
  "environment": {
   "name": "tf2-2-2-gpu.2-2.m50",
   "type": "gcloud",
   "uri": "gcr.io/deeplearning-platform-release/tf2-2-2-gpu.2-2:m50"
  },
  "kernelspec": {
   "display_name": "Python 3",
   "language": "python",
   "name": "python3"
  },
  "language_info": {
   "codemirror_mode": {
    "name": "ipython",
    "version": 3
   },
   "file_extension": ".py",
   "mimetype": "text/x-python",
   "name": "python",
   "nbconvert_exporter": "python",
   "pygments_lexer": "ipython3",
   "version": "3.8.5"
  }
 },
 "nbformat": 4,
 "nbformat_minor": 4
}
